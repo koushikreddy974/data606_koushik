{
 "cells": [
  {
   "cell_type": "markdown",
   "metadata": {
    "id": "n21xqHfm4fxQ"
   },
   "source": [
    "Data Exploration"
   ]
  },
  {
   "cell_type": "code",
   "execution_count": 1,
   "metadata": {
    "id": "3Dt4dgknoWnL"
   },
   "outputs": [],
   "source": [
    "import cv2\n",
    "import os\n",
    "import numpy as np\n",
    "import tensorflow as tf\n",
    "from tensorflow import keras\n",
    "from tensorflow.keras import layers\n",
    "from keras.layers import *\n",
    "from keras.optimizers import Adam\n",
    "from keras.models import Sequential\n",
    "from keras import Model"
   ]
  },
  {
   "cell_type": "markdown",
   "metadata": {
    "id": "mDfKhj9d8mCF"
   },
   "source": [
    "Loading data"
   ]
  },
  {
   "cell_type": "code",
   "execution_count": 2,
   "metadata": {
    "id": "GDIySlf_4mp5"
   },
   "outputs": [],
   "source": [
    "#Reading all the images into a numpy array\n",
    "images = []\n",
    "for file in os.listdir():\n",
    "  if file.endswith('.jpg'):\n",
    "    #if the file is an image\n",
    "    image_values = cv2.imread(file)\n",
    "\n",
    "    #resize the image into 360 x 480 pixels\n",
    "    image_values = cv2.resize(image_values,(360,480))\n",
    "\n",
    "    images.append(image_values)\n",
    "\n",
    "#storing everything in a numpy array\n",
    "images_array = np.array(images)"
   ]
  },
  {
   "cell_type": "markdown",
   "metadata": {
    "id": "FtWepnOn8n-u"
   },
   "source": [
    "Finding number of observations"
   ]
  },
  {
   "cell_type": "code",
   "execution_count": 3,
   "metadata": {
    "colab": {
     "base_uri": "https://localhost:8080/"
    },
    "id": "IDxkKLpo8WNG",
    "outputId": "3d5cccfe-d4b4-4809-f5d0-1991225f376f"
   },
   "outputs": [
    {
     "data": {
      "text/plain": [
       "30"
      ]
     },
     "execution_count": 3,
     "metadata": {},
     "output_type": "execute_result"
    }
   ],
   "source": [
    "number_of_observations = len(images_array)\n",
    "number_of_observations"
   ]
  },
  {
   "cell_type": "markdown",
   "metadata": {
    "id": "nDGS2zhG8rXc"
   },
   "source": [
    "As we are working on a image dataset we do not have any columns "
   ]
  },
  {
   "cell_type": "markdown",
   "metadata": {
    "id": "_grOvEeE60J3"
   },
   "source": [
    "Analzing how images are stored in python variables"
   ]
  },
  {
   "cell_type": "code",
   "execution_count": 4,
   "metadata": {
    "colab": {
     "base_uri": "https://localhost:8080/"
    },
    "id": "ssGbDf8o41_f",
    "outputId": "f6f16e0f-4124-4a86-9e6e-dc62da4b39e5"
   },
   "outputs": [
    {
     "data": {
      "text/plain": [
       "array([[[[  3,  67, 209],\n",
       "         [  2,  66, 208],\n",
       "         [  1,  63, 205],\n",
       "         ...,\n",
       "         [ 18,  53, 202],\n",
       "         [ 15,  54, 203],\n",
       "         [ 14,  54, 203]],\n",
       "\n",
       "        [[  4,  67, 210],\n",
       "         [  4,  66, 209],\n",
       "         [  3,  64, 207],\n",
       "         ...,\n",
       "         [ 18,  53, 202],\n",
       "         [ 15,  54, 203],\n",
       "         [ 14,  54, 203]],\n",
       "\n",
       "        [[  9,  67, 214],\n",
       "         [  8,  66, 214],\n",
       "         [  8,  65, 212],\n",
       "         ...,\n",
       "         [ 18,  53, 202],\n",
       "         [ 15,  54, 203],\n",
       "         [ 14,  54, 203]],\n",
       "\n",
       "        ...,\n",
       "\n",
       "        [[ 32,  37,  38],\n",
       "         [ 32,  37,  38],\n",
       "         [ 33,  39,  39],\n",
       "         ...,\n",
       "         [211, 201, 191],\n",
       "         [211, 201, 191],\n",
       "         [211, 201, 191]],\n",
       "\n",
       "        [[ 33,  37,  38],\n",
       "         [ 33,  37,  38],\n",
       "         [ 34,  39,  39],\n",
       "         ...,\n",
       "         [211, 201, 191],\n",
       "         [211, 201, 191],\n",
       "         [211, 201, 191]],\n",
       "\n",
       "        [[ 33,  37,  38],\n",
       "         [ 33,  37,  38],\n",
       "         [ 34,  38,  39],\n",
       "         ...,\n",
       "         [211, 201, 191],\n",
       "         [211, 201, 191],\n",
       "         [211, 201, 191]]],\n",
       "\n",
       "\n",
       "       [[[194, 231, 253],\n",
       "         [194, 231, 253],\n",
       "         [194, 231, 253],\n",
       "         ...,\n",
       "         [223, 237, 255],\n",
       "         [222, 238, 254],\n",
       "         [222, 238, 254]],\n",
       "\n",
       "        [[194, 231, 253],\n",
       "         [194, 231, 253],\n",
       "         [194, 231, 253],\n",
       "         ...,\n",
       "         [223, 237, 255],\n",
       "         [222, 238, 254],\n",
       "         [222, 238, 254]],\n",
       "\n",
       "        [[194, 231, 253],\n",
       "         [194, 231, 253],\n",
       "         [194, 231, 253],\n",
       "         ...,\n",
       "         [222, 237, 255],\n",
       "         [222, 238, 254],\n",
       "         [222, 238, 254]],\n",
       "\n",
       "        ...,\n",
       "\n",
       "        [[ 29,  76, 144],\n",
       "         [ 33,  80, 148],\n",
       "         [ 42,  89, 157],\n",
       "         ...,\n",
       "         [ 24,  50, 120],\n",
       "         [ 24,  50, 119],\n",
       "         [ 24,  50, 119]],\n",
       "\n",
       "        [[ 46,  93, 161],\n",
       "         [ 54, 101, 168],\n",
       "         [ 69, 116, 184],\n",
       "         ...,\n",
       "         [ 24,  50, 120],\n",
       "         [ 24,  50, 120],\n",
       "         [ 24,  50, 120]],\n",
       "\n",
       "        [[ 53, 100, 168],\n",
       "         [ 62, 109, 176],\n",
       "         [ 79, 126, 194],\n",
       "         ...,\n",
       "         [ 24,  50, 120],\n",
       "         [ 24,  50, 120],\n",
       "         [ 24,  50, 120]]],\n",
       "\n",
       "\n",
       "       [[[242, 219, 174],\n",
       "         [242, 219, 174],\n",
       "         [241, 218, 173],\n",
       "         ...,\n",
       "         [245, 209, 161],\n",
       "         [245, 209, 161],\n",
       "         [245, 209, 161]],\n",
       "\n",
       "        [[242, 219, 174],\n",
       "         [242, 219, 174],\n",
       "         [241, 218, 173],\n",
       "         ...,\n",
       "         [245, 209, 161],\n",
       "         [245, 209, 161],\n",
       "         [245, 209, 161]],\n",
       "\n",
       "        [[242, 219, 174],\n",
       "         [242, 219, 174],\n",
       "         [241, 218, 173],\n",
       "         ...,\n",
       "         [245, 209, 161],\n",
       "         [245, 209, 161],\n",
       "         [245, 209, 161]],\n",
       "\n",
       "        ...,\n",
       "\n",
       "        [[ 39,  12,  52],\n",
       "         [ 37,  10,  50],\n",
       "         [ 34,   8,  47],\n",
       "         ...,\n",
       "         [ 49,  41,  64],\n",
       "         [ 49,  41,  64],\n",
       "         [ 49,  41,  64]],\n",
       "\n",
       "        [[ 39,  12,  52],\n",
       "         [ 37,  10,  50],\n",
       "         [ 35,   7,  47],\n",
       "         ...,\n",
       "         [ 48,  40,  63],\n",
       "         [ 48,  40,  63],\n",
       "         [ 48,  40,  63]],\n",
       "\n",
       "        [[ 39,  12,  52],\n",
       "         [ 37,  10,  51],\n",
       "         [ 34,   8,  47],\n",
       "         ...,\n",
       "         [ 48,  40,  63],\n",
       "         [ 48,  40,  63],\n",
       "         [ 48,  40,  63]]],\n",
       "\n",
       "\n",
       "       ...,\n",
       "\n",
       "\n",
       "       [[[150,  84,  79],\n",
       "         [152,  86,  81],\n",
       "         [157,  91,  84],\n",
       "         ...,\n",
       "         [188, 126, 162],\n",
       "         [188, 125, 163],\n",
       "         [188, 125, 164]],\n",
       "\n",
       "        [[150,  84,  79],\n",
       "         [152,  86,  81],\n",
       "         [157,  91,  84],\n",
       "         ...,\n",
       "         [188, 126, 162],\n",
       "         [188, 125, 163],\n",
       "         [188, 125, 164]],\n",
       "\n",
       "        [[150,  83,  80],\n",
       "         [152,  86,  81],\n",
       "         [156,  91,  85],\n",
       "         ...,\n",
       "         [188, 126, 162],\n",
       "         [188, 125, 163],\n",
       "         [188, 125, 164]],\n",
       "\n",
       "        ...,\n",
       "\n",
       "        [[ 39,  41,  49],\n",
       "         [ 60,  61,  69],\n",
       "         [102, 103, 109],\n",
       "         ...,\n",
       "         [ 93,  39,  13],\n",
       "         [ 93,  39,  14],\n",
       "         [ 93,  39,  14]],\n",
       "\n",
       "        [[ 65,  65,  74],\n",
       "         [ 90,  90,  98],\n",
       "         [141, 140, 147],\n",
       "         ...,\n",
       "         [ 88,  33,   7],\n",
       "         [ 88,  33,   7],\n",
       "         [ 88,  33,   7]],\n",
       "\n",
       "        [[ 76,  75,  84],\n",
       "         [103, 101, 109],\n",
       "         [157, 155, 162],\n",
       "         ...,\n",
       "         [ 86,  31,   4],\n",
       "         [ 86,  31,   4],\n",
       "         [ 86,  31,   4]]],\n",
       "\n",
       "\n",
       "       [[[ 57,  88,  89],\n",
       "         [ 58,  89,  90],\n",
       "         [ 60,  91,  92],\n",
       "         ...,\n",
       "         [ 41,  62,  60],\n",
       "         [ 41,  62,  60],\n",
       "         [ 41,  62,  60]],\n",
       "\n",
       "        [[ 57,  88,  89],\n",
       "         [ 58,  89,  90],\n",
       "         [ 60,  91,  92],\n",
       "         ...,\n",
       "         [ 41,  62,  60],\n",
       "         [ 41,  62,  60],\n",
       "         [ 41,  62,  60]],\n",
       "\n",
       "        [[ 57,  88,  89],\n",
       "         [ 58,  89,  90],\n",
       "         [ 59,  90,  91],\n",
       "         ...,\n",
       "         [ 41,  62,  60],\n",
       "         [ 41,  62,  60],\n",
       "         [ 41,  62,  60]],\n",
       "\n",
       "        ...,\n",
       "\n",
       "        [[104, 105, 101],\n",
       "         [105, 106, 102],\n",
       "         [108, 109, 105],\n",
       "         ...,\n",
       "         [ 73,  77,  75],\n",
       "         [ 75,  78,  74],\n",
       "         [ 76,  78,  74]],\n",
       "\n",
       "        [[104, 105, 101],\n",
       "         [105, 106, 102],\n",
       "         [108, 109, 105],\n",
       "         ...,\n",
       "         [ 74,  77,  75],\n",
       "         [ 76,  78,  74],\n",
       "         [ 77,  78,  74]],\n",
       "\n",
       "        [[104, 105, 101],\n",
       "         [105, 106, 102],\n",
       "         [108, 109, 105],\n",
       "         ...,\n",
       "         [ 75,  77,  75],\n",
       "         [ 76,  78,  74],\n",
       "         [ 77,  78,  74]]],\n",
       "\n",
       "\n",
       "       [[[108, 156, 228],\n",
       "         [108, 157, 229],\n",
       "         [109, 158, 230],\n",
       "         ...,\n",
       "         [ 54,  70,  77],\n",
       "         [ 54,  70,  77],\n",
       "         [ 54,  70,  77]],\n",
       "\n",
       "        [[108, 156, 228],\n",
       "         [108, 157, 229],\n",
       "         [109, 158, 230],\n",
       "         ...,\n",
       "         [ 54,  70,  77],\n",
       "         [ 54,  70,  77],\n",
       "         [ 54,  70,  77]],\n",
       "\n",
       "        [[108, 156, 228],\n",
       "         [108, 157, 229],\n",
       "         [109, 158, 230],\n",
       "         ...,\n",
       "         [ 54,  70,  77],\n",
       "         [ 54,  70,  77],\n",
       "         [ 54,  70,  77]],\n",
       "\n",
       "        ...,\n",
       "\n",
       "        [[ 54,  93, 162],\n",
       "         [ 54,  93, 162],\n",
       "         [ 55,  94, 163],\n",
       "         ...,\n",
       "         [ 19,  29,  32],\n",
       "         [ 18,  30,  32],\n",
       "         [ 18,  30,  32]],\n",
       "\n",
       "        [[ 54,  93, 162],\n",
       "         [ 54,  93, 162],\n",
       "         [ 55,  94, 163],\n",
       "         ...,\n",
       "         [ 19,  29,  32],\n",
       "         [ 18,  30,  32],\n",
       "         [ 18,  30,  32]],\n",
       "\n",
       "        [[ 54,  93, 162],\n",
       "         [ 54,  93, 162],\n",
       "         [ 55,  94, 163],\n",
       "         ...,\n",
       "         [ 19,  29,  32],\n",
       "         [ 18,  30,  32],\n",
       "         [ 18,  30,  32]]]], dtype=uint8)"
      ]
     },
     "execution_count": 4,
     "metadata": {},
     "output_type": "execute_result"
    }
   ],
   "source": [
    "images_array"
   ]
  },
  {
   "cell_type": "code",
   "execution_count": 5,
   "metadata": {
    "colab": {
     "base_uri": "https://localhost:8080/"
    },
    "id": "yPKaxQ4_65VN",
    "outputId": "7fb00979-4923-4f13-f6f0-2df10b83ba32"
   },
   "outputs": [
    {
     "data": {
      "text/plain": [
       "(480, 360, 3)"
      ]
     },
     "execution_count": 5,
     "metadata": {},
     "output_type": "execute_result"
    }
   ],
   "source": [
    "shape = images_array[0].shape\n",
    "shape"
   ]
  },
  {
   "cell_type": "code",
   "execution_count": 6,
   "metadata": {
    "colab": {
     "base_uri": "https://localhost:8080/"
    },
    "id": "q6KOs_RG7SrR",
    "outputId": "f7bd2345-3213-415b-9f44-05b50ab79fd4"
   },
   "outputs": [
    {
     "data": {
      "text/plain": [
       "array([[[  3,  67, 209],\n",
       "        [  2,  66, 208],\n",
       "        [  1,  63, 205],\n",
       "        ...,\n",
       "        [ 18,  53, 202],\n",
       "        [ 15,  54, 203],\n",
       "        [ 14,  54, 203]],\n",
       "\n",
       "       [[  4,  67, 210],\n",
       "        [  4,  66, 209],\n",
       "        [  3,  64, 207],\n",
       "        ...,\n",
       "        [ 18,  53, 202],\n",
       "        [ 15,  54, 203],\n",
       "        [ 14,  54, 203]],\n",
       "\n",
       "       [[  9,  67, 214],\n",
       "        [  8,  66, 214],\n",
       "        [  8,  65, 212],\n",
       "        ...,\n",
       "        [ 18,  53, 202],\n",
       "        [ 15,  54, 203],\n",
       "        [ 14,  54, 203]],\n",
       "\n",
       "       ...,\n",
       "\n",
       "       [[ 32,  37,  38],\n",
       "        [ 32,  37,  38],\n",
       "        [ 33,  39,  39],\n",
       "        ...,\n",
       "        [211, 201, 191],\n",
       "        [211, 201, 191],\n",
       "        [211, 201, 191]],\n",
       "\n",
       "       [[ 33,  37,  38],\n",
       "        [ 33,  37,  38],\n",
       "        [ 34,  39,  39],\n",
       "        ...,\n",
       "        [211, 201, 191],\n",
       "        [211, 201, 191],\n",
       "        [211, 201, 191]],\n",
       "\n",
       "       [[ 33,  37,  38],\n",
       "        [ 33,  37,  38],\n",
       "        [ 34,  38,  39],\n",
       "        ...,\n",
       "        [211, 201, 191],\n",
       "        [211, 201, 191],\n",
       "        [211, 201, 191]]], dtype=uint8)"
      ]
     },
     "execution_count": 6,
     "metadata": {},
     "output_type": "execute_result"
    }
   ],
   "source": [
    "images_array[0]"
   ]
  },
  {
   "cell_type": "markdown",
   "metadata": {
    "id": "kZunzWj07x6D"
   },
   "source": [
    "Here we can observe that the images are stored pxiel wise as a 2d matrix where each element in the matrix is an array with 3 values in it. Those three values are RGB values(red green blue) of the pixel "
   ]
  },
  {
   "cell_type": "markdown",
   "metadata": {
    "id": "THvNMgjU9JoY"
   },
   "source": [
    "There are no missing values"
   ]
  },
  {
   "cell_type": "markdown",
   "metadata": {
    "id": "ss3_27qG870l"
   },
   "source": [
    "All the pixel details in the image dataset are used as features for building our dep learning model"
   ]
  },
  {
   "cell_type": "markdown",
   "metadata": {
    "id": "cZYINTxs9Sln"
   },
   "source": [
    "Target column: Our model wil be creating new face images by taking inspiration from the images we feed it. We also train a discriminator which identifies whether an image is a real one or generated one"
   ]
  },
  {
   "cell_type": "markdown",
   "metadata": {
    "id": "Gh3nx_fC9ssy"
   },
   "source": [
    "**Steps to be performed in the project**"
   ]
  },
  {
   "cell_type": "markdown",
   "metadata": {
    "id": "7kBr_eho9zLN"
   },
   "source": [
    "* I will be loading the dataset into numpy arrays. \n",
    "* I will preprocess the images like fitting its resolution. \n",
    "* I will be creating a GAN model and training it with the dataset I loaded. \n",
    "* I will be training a discriminator that can filter whether an image is real or generated\n",
    "* Hyper parameter tuning will be performed\n",
    "* I will be creating new images using the generator.\n",
    "* For evaluation purpose, I will be taking a model available on internet to predict if generated image is a human face or not\n",
    "\n",
    "\n"
   ]
  },
  {
   "cell_type": "code",
   "execution_count": 7,
   "metadata": {
    "id": "XYUXCv7XyO2c"
   },
   "outputs": [],
   "source": [
    "# building the discriminator\n",
    "def build_discriminator(img_shape):\n",
    "  model = Sequential([\n",
    "      # First Layer\n",
    "      Conv2D(32, kernel_size=5, strides=2, input_shape=img_shape, padding=\"same\"),                          \n",
    "      LeakyReLU(alpha=0.2),                           \n",
    "      Dropout(0.25),\n",
    "      # Second Layer\n",
    "      Conv2D(64, kernel_size=5, strides=2, padding=\"same\"),                          \n",
    "      BatchNormalization(momentum=0.8),                           \n",
    "      LeakyReLU(alpha=0.2),                           \n",
    "      Dropout(0.25),\n",
    "      # Third layer\n",
    "      Conv2D(128, kernel_size=5, strides=2, padding=\"same\"),                         \n",
    "      BatchNormalization(momentum=0.8),                           \n",
    "      LeakyReLU(alpha=0.2),                           \n",
    "      Dropout(0.25),\n",
    "      # Flattening the output to get a valid value\n",
    "      Flatten(),                            \n",
    "      Dense(1),                           \n",
    "      Activation(\"sigmoid\")\n",
    "  ])\n",
    "                                                    \n",
    "  model.summary()                           \n",
    "  img = Input(shape=img_shape)    \n",
    "  # predicted outputs\n",
    "  d_pred = model(img)                           \n",
    "  return Model(inputs=img, outputs=d_pred)"
   ]
  },
  {
   "cell_type": "code",
   "execution_count": 8,
   "metadata": {
    "id": "FoIb-ha85BwU"
   },
   "outputs": [],
   "source": [
    "# Building the Generator\n",
    "def build_generator(z_dimension, channels):                           \n",
    "  model = Sequential([\n",
    "      Dense(2 * 120 * 90, input_dim=z_dimension),                           \n",
    "      LeakyReLU(alpha=0.2),                            \n",
    "      Reshape((120, 90, 2)),\n",
    "      UpSampling2D(),                          \n",
    "      # Second Layer\n",
    "      Conv2D(128, kernel_size=5, padding=\"same\"),                           \n",
    "      BatchNormalization(momentum=0.8),                           \n",
    "      LeakyReLU(alpha=0.2),\n",
    "      UpSampling2D(),                          \n",
    "      # Third Layer\n",
    "      Conv2D(64, kernel_size=5, padding=\"same\"),                           \n",
    "      BatchNormalization(momentum=0.8),                           \n",
    "      LeakyReLU(alpha=0.2),\n",
    "      Conv2D(channels, kernel_size=5, padding=\"same\"),                           \n",
    "      Activation(\"tanh\"),\n",
    "  ])\n",
    "  model.summary()                           \n",
    "  noise = Input(shape=(z_dimension,))                           \n",
    "  img = model(noise)                           \n",
    "  return Model(inputs=noise, outputs=img)"
   ]
  },
  {
   "cell_type": "code",
   "execution_count": 9,
   "metadata": {
    "id": "-4IlLFit7oBy"
   },
   "outputs": [],
   "source": [
    "#load real pictures:                       \n",
    "x_train = images_array                                       \n",
    "# model parameters                       \n",
    "img_rows = shape[0]                       \n",
    "img_cols = shape[1]                       \n",
    "channels = 3                       \n",
    "img_shape = (img_rows, img_cols, channels)                       \n",
    "z_dimension = 32        \n",
    "# Using adam optimiser here because the computation is fast and results are generally better\n",
    "optimizer = Adam(0.0005, 0.5)"
   ]
  },
  {
   "cell_type": "code",
   "execution_count": 10,
   "metadata": {
    "colab": {
     "base_uri": "https://localhost:8080/"
    },
    "id": "Le-OOCUx8pxX",
    "outputId": "79262451-526a-4e7e-a057-c8e46088c931"
   },
   "outputs": [
    {
     "name": "stdout",
     "output_type": "stream",
     "text": [
      "Model: \"sequential\"\n",
      "_________________________________________________________________\n",
      " Layer (type)                Output Shape              Param #   \n",
      "=================================================================\n",
      " conv2d (Conv2D)             (None, 240, 180, 32)      2432      \n",
      "                                                                 \n",
      " leaky_re_lu (LeakyReLU)     (None, 240, 180, 32)      0         \n",
      "                                                                 \n",
      " dropout (Dropout)           (None, 240, 180, 32)      0         \n",
      "                                                                 \n",
      " conv2d_1 (Conv2D)           (None, 120, 90, 64)       51264     \n",
      "                                                                 \n",
      " batch_normalization (BatchN  (None, 120, 90, 64)      256       \n",
      " ormalization)                                                   \n",
      "                                                                 \n",
      " leaky_re_lu_1 (LeakyReLU)   (None, 120, 90, 64)       0         \n",
      "                                                                 \n",
      " dropout_1 (Dropout)         (None, 120, 90, 64)       0         \n",
      "                                                                 \n",
      " conv2d_2 (Conv2D)           (None, 60, 45, 128)       204928    \n",
      "                                                                 \n",
      " batch_normalization_1 (Batc  (None, 60, 45, 128)      512       \n",
      " hNormalization)                                                 \n",
      "                                                                 \n",
      " leaky_re_lu_2 (LeakyReLU)   (None, 60, 45, 128)       0         \n",
      "                                                                 \n",
      " dropout_2 (Dropout)         (None, 60, 45, 128)       0         \n",
      "                                                                 \n",
      " flatten (Flatten)           (None, 345600)            0         \n",
      "                                                                 \n",
      " dense (Dense)               (None, 1)                 345601    \n",
      "                                                                 \n",
      " activation (Activation)     (None, 1)                 0         \n",
      "                                                                 \n",
      "=================================================================\n",
      "Total params: 604,993\n",
      "Trainable params: 604,609\n",
      "Non-trainable params: 384\n",
      "_________________________________________________________________\n",
      "Model: \"sequential_1\"\n",
      "_________________________________________________________________\n",
      " Layer (type)                Output Shape              Param #   \n",
      "=================================================================\n",
      " dense_1 (Dense)             (None, 21600)             712800    \n",
      "                                                                 \n",
      " leaky_re_lu_3 (LeakyReLU)   (None, 21600)             0         \n",
      "                                                                 \n",
      " reshape (Reshape)           (None, 120, 90, 2)        0         \n",
      "                                                                 \n",
      " up_sampling2d (UpSampling2D  (None, 240, 180, 2)      0         \n",
      " )                                                               \n",
      "                                                                 \n",
      " conv2d_3 (Conv2D)           (None, 240, 180, 128)     6528      \n",
      "                                                                 \n",
      " batch_normalization_2 (Batc  (None, 240, 180, 128)    512       \n",
      " hNormalization)                                                 \n",
      "                                                                 \n",
      " leaky_re_lu_4 (LeakyReLU)   (None, 240, 180, 128)     0         \n",
      "                                                                 \n",
      " up_sampling2d_1 (UpSampling  (None, 480, 360, 128)    0         \n",
      " 2D)                                                             \n",
      "                                                                 \n",
      " conv2d_4 (Conv2D)           (None, 480, 360, 64)      204864    \n",
      "                                                                 \n",
      " batch_normalization_3 (Batc  (None, 480, 360, 64)     256       \n",
      " hNormalization)                                                 \n",
      "                                                                 \n",
      " leaky_re_lu_5 (LeakyReLU)   (None, 480, 360, 64)      0         \n",
      "                                                                 \n",
      " conv2d_5 (Conv2D)           (None, 480, 360, 3)       4803      \n",
      "                                                                 \n",
      " activation_1 (Activation)   (None, 480, 360, 3)       0         \n",
      "                                                                 \n",
      "=================================================================\n",
      "Total params: 929,763\n",
      "Trainable params: 929,379\n",
      "Non-trainable params: 384\n",
      "_________________________________________________________________\n"
     ]
    }
   ],
   "source": [
    "# Compiling the discriminator and generator\n",
    "discriminator = build_discriminator(img_shape)      \n",
    "discriminator.compile(loss='binary_crossentropy',                                             \n",
    "                      optimizer=optimizer, metrics=['accuracy'])                                               \n",
    "generator = build_generator(z_dimension,channels)                                               \n",
    "z = Input(shape=(z_dimension,))                       \n",
    "img = generator(z)                       \n",
    "discriminator.trainable = False                       \n",
    "d_pred = discriminator(img)                       \n",
    "combined = Model(z, d_pred)                       \n",
    "combined.compile(loss='binary_crossentropy',optimizer=optimizer,                                        \n",
    "                 metrics=['accuracy'])"
   ]
  },
  {
   "cell_type": "code",
   "execution_count": 11,
   "metadata": {
    "colab": {
     "base_uri": "https://localhost:8080/",
     "height": 381
    },
    "id": "MO7ZBeD09JwS",
    "outputId": "4650556d-daf6-47aa-cf90-f032a294df3a"
   },
   "outputs": [
    {
     "ename": "KeyboardInterrupt",
     "evalue": "ignored",
     "output_type": "error",
     "traceback": [
      "\u001b[0;31m---------------------------------------------------------------------------\u001b[0m",
      "\u001b[0;31mKeyboardInterrupt\u001b[0m                         Traceback (most recent call last)",
      "\u001b[0;32m<ipython-input-11-458403fd07ba>\u001b[0m in \u001b[0;36m<module>\u001b[0;34m\u001b[0m\n\u001b[1;32m     10\u001b[0m     \u001b[0mimgs\u001b[0m \u001b[0;34m=\u001b[0m \u001b[0mx_train\u001b[0m\u001b[0;34m[\u001b[0m\u001b[0midx\u001b[0m\u001b[0;34m]\u001b[0m\u001b[0;34m\u001b[0m\u001b[0;34m\u001b[0m\u001b[0m\n\u001b[1;32m     11\u001b[0m     \u001b[0mnoise\u001b[0m \u001b[0;34m=\u001b[0m \u001b[0mnp\u001b[0m\u001b[0;34m.\u001b[0m\u001b[0mrandom\u001b[0m\u001b[0;34m.\u001b[0m\u001b[0mnormal\u001b[0m\u001b[0;34m(\u001b[0m\u001b[0;36m0\u001b[0m\u001b[0;34m,\u001b[0m \u001b[0;36m1\u001b[0m\u001b[0;34m,\u001b[0m \u001b[0;34m(\u001b[0m\u001b[0mbatch_size\u001b[0m\u001b[0;34m,\u001b[0m \u001b[0mz_dimension\u001b[0m\u001b[0;34m)\u001b[0m\u001b[0;34m)\u001b[0m\u001b[0;34m\u001b[0m\u001b[0;34m\u001b[0m\u001b[0m\n\u001b[0;32m---> 12\u001b[0;31m     \u001b[0mgen_imgs\u001b[0m \u001b[0;34m=\u001b[0m \u001b[0mgenerator\u001b[0m\u001b[0;34m.\u001b[0m\u001b[0mpredict\u001b[0m\u001b[0;34m(\u001b[0m\u001b[0mnoise\u001b[0m\u001b[0;34m)\u001b[0m\u001b[0;34m\u001b[0m\u001b[0;34m\u001b[0m\u001b[0m\n\u001b[0m\u001b[1;32m     13\u001b[0m     \u001b[0md_loss_real\u001b[0m \u001b[0;34m=\u001b[0m \u001b[0mdiscriminator\u001b[0m\u001b[0;34m.\u001b[0m\u001b[0mtrain_on_batch\u001b[0m\u001b[0;34m(\u001b[0m\u001b[0mimgs\u001b[0m\u001b[0;34m,\u001b[0m \u001b[0mreal\u001b[0m\u001b[0;34m)\u001b[0m\u001b[0;34m\u001b[0m\u001b[0;34m\u001b[0m\u001b[0m\n\u001b[1;32m     14\u001b[0m     \u001b[0md_loss_fake\u001b[0m \u001b[0;34m=\u001b[0m \u001b[0mdiscriminator\u001b[0m\u001b[0;34m.\u001b[0m\u001b[0mtrain_on_batch\u001b[0m\u001b[0;34m(\u001b[0m\u001b[0mgen_imgs\u001b[0m\u001b[0;34m,\u001b[0m \u001b[0mfake\u001b[0m\u001b[0;34m)\u001b[0m\u001b[0;34m\u001b[0m\u001b[0;34m\u001b[0m\u001b[0m\n",
      "\u001b[0;32m/usr/local/lib/python3.7/dist-packages/keras/utils/traceback_utils.py\u001b[0m in \u001b[0;36merror_handler\u001b[0;34m(*args, **kwargs)\u001b[0m\n\u001b[1;32m     62\u001b[0m     \u001b[0mfiltered_tb\u001b[0m \u001b[0;34m=\u001b[0m \u001b[0;32mNone\u001b[0m\u001b[0;34m\u001b[0m\u001b[0;34m\u001b[0m\u001b[0m\n\u001b[1;32m     63\u001b[0m     \u001b[0;32mtry\u001b[0m\u001b[0;34m:\u001b[0m\u001b[0;34m\u001b[0m\u001b[0;34m\u001b[0m\u001b[0m\n\u001b[0;32m---> 64\u001b[0;31m       \u001b[0;32mreturn\u001b[0m \u001b[0mfn\u001b[0m\u001b[0;34m(\u001b[0m\u001b[0;34m*\u001b[0m\u001b[0margs\u001b[0m\u001b[0;34m,\u001b[0m \u001b[0;34m**\u001b[0m\u001b[0mkwargs\u001b[0m\u001b[0;34m)\u001b[0m\u001b[0;34m\u001b[0m\u001b[0;34m\u001b[0m\u001b[0m\n\u001b[0m\u001b[1;32m     65\u001b[0m     \u001b[0;32mexcept\u001b[0m \u001b[0mException\u001b[0m \u001b[0;32mas\u001b[0m \u001b[0me\u001b[0m\u001b[0;34m:\u001b[0m  \u001b[0;31m# pylint: disable=broad-except\u001b[0m\u001b[0;34m\u001b[0m\u001b[0;34m\u001b[0m\u001b[0m\n\u001b[1;32m     66\u001b[0m       \u001b[0mfiltered_tb\u001b[0m \u001b[0;34m=\u001b[0m \u001b[0m_process_traceback_frames\u001b[0m\u001b[0;34m(\u001b[0m\u001b[0me\u001b[0m\u001b[0;34m.\u001b[0m\u001b[0m__traceback__\u001b[0m\u001b[0;34m)\u001b[0m\u001b[0;34m\u001b[0m\u001b[0;34m\u001b[0m\u001b[0m\n",
      "\u001b[0;32m/usr/local/lib/python3.7/dist-packages/keras/engine/training.py\u001b[0m in \u001b[0;36mpredict\u001b[0;34m(self, x, batch_size, verbose, steps, callbacks, max_queue_size, workers, use_multiprocessing)\u001b[0m\n\u001b[1;32m   2031\u001b[0m           \u001b[0;32mfor\u001b[0m \u001b[0mstep\u001b[0m \u001b[0;32min\u001b[0m \u001b[0mdata_handler\u001b[0m\u001b[0;34m.\u001b[0m\u001b[0msteps\u001b[0m\u001b[0;34m(\u001b[0m\u001b[0;34m)\u001b[0m\u001b[0;34m:\u001b[0m\u001b[0;34m\u001b[0m\u001b[0;34m\u001b[0m\u001b[0m\n\u001b[1;32m   2032\u001b[0m             \u001b[0mcallbacks\u001b[0m\u001b[0;34m.\u001b[0m\u001b[0mon_predict_batch_begin\u001b[0m\u001b[0;34m(\u001b[0m\u001b[0mstep\u001b[0m\u001b[0;34m)\u001b[0m\u001b[0;34m\u001b[0m\u001b[0;34m\u001b[0m\u001b[0m\n\u001b[0;32m-> 2033\u001b[0;31m             \u001b[0mtmp_batch_outputs\u001b[0m \u001b[0;34m=\u001b[0m \u001b[0mself\u001b[0m\u001b[0;34m.\u001b[0m\u001b[0mpredict_function\u001b[0m\u001b[0;34m(\u001b[0m\u001b[0miterator\u001b[0m\u001b[0;34m)\u001b[0m\u001b[0;34m\u001b[0m\u001b[0;34m\u001b[0m\u001b[0m\n\u001b[0m\u001b[1;32m   2034\u001b[0m             \u001b[0;32mif\u001b[0m \u001b[0mdata_handler\u001b[0m\u001b[0;34m.\u001b[0m\u001b[0mshould_sync\u001b[0m\u001b[0;34m:\u001b[0m\u001b[0;34m\u001b[0m\u001b[0;34m\u001b[0m\u001b[0m\n\u001b[1;32m   2035\u001b[0m               \u001b[0mcontext\u001b[0m\u001b[0;34m.\u001b[0m\u001b[0masync_wait\u001b[0m\u001b[0;34m(\u001b[0m\u001b[0;34m)\u001b[0m\u001b[0;34m\u001b[0m\u001b[0;34m\u001b[0m\u001b[0m\n",
      "\u001b[0;32m/usr/local/lib/python3.7/dist-packages/tensorflow/python/util/traceback_utils.py\u001b[0m in \u001b[0;36merror_handler\u001b[0;34m(*args, **kwargs)\u001b[0m\n\u001b[1;32m    148\u001b[0m     \u001b[0mfiltered_tb\u001b[0m \u001b[0;34m=\u001b[0m \u001b[0;32mNone\u001b[0m\u001b[0;34m\u001b[0m\u001b[0;34m\u001b[0m\u001b[0m\n\u001b[1;32m    149\u001b[0m     \u001b[0;32mtry\u001b[0m\u001b[0;34m:\u001b[0m\u001b[0;34m\u001b[0m\u001b[0;34m\u001b[0m\u001b[0m\n\u001b[0;32m--> 150\u001b[0;31m       \u001b[0;32mreturn\u001b[0m \u001b[0mfn\u001b[0m\u001b[0;34m(\u001b[0m\u001b[0;34m*\u001b[0m\u001b[0margs\u001b[0m\u001b[0;34m,\u001b[0m \u001b[0;34m**\u001b[0m\u001b[0mkwargs\u001b[0m\u001b[0;34m)\u001b[0m\u001b[0;34m\u001b[0m\u001b[0;34m\u001b[0m\u001b[0m\n\u001b[0m\u001b[1;32m    151\u001b[0m     \u001b[0;32mexcept\u001b[0m \u001b[0mException\u001b[0m \u001b[0;32mas\u001b[0m \u001b[0me\u001b[0m\u001b[0;34m:\u001b[0m\u001b[0;34m\u001b[0m\u001b[0;34m\u001b[0m\u001b[0m\n\u001b[1;32m    152\u001b[0m       \u001b[0mfiltered_tb\u001b[0m \u001b[0;34m=\u001b[0m \u001b[0m_process_traceback_frames\u001b[0m\u001b[0;34m(\u001b[0m\u001b[0me\u001b[0m\u001b[0;34m.\u001b[0m\u001b[0m__traceback__\u001b[0m\u001b[0;34m)\u001b[0m\u001b[0;34m\u001b[0m\u001b[0;34m\u001b[0m\u001b[0m\n",
      "\u001b[0;32m/usr/local/lib/python3.7/dist-packages/tensorflow/python/eager/def_function.py\u001b[0m in \u001b[0;36m__call__\u001b[0;34m(self, *args, **kwds)\u001b[0m\n\u001b[1;32m    913\u001b[0m \u001b[0;34m\u001b[0m\u001b[0m\n\u001b[1;32m    914\u001b[0m       \u001b[0;32mwith\u001b[0m \u001b[0mOptionalXlaContext\u001b[0m\u001b[0;34m(\u001b[0m\u001b[0mself\u001b[0m\u001b[0;34m.\u001b[0m\u001b[0m_jit_compile\u001b[0m\u001b[0;34m)\u001b[0m\u001b[0;34m:\u001b[0m\u001b[0;34m\u001b[0m\u001b[0;34m\u001b[0m\u001b[0m\n\u001b[0;32m--> 915\u001b[0;31m         \u001b[0mresult\u001b[0m \u001b[0;34m=\u001b[0m \u001b[0mself\u001b[0m\u001b[0;34m.\u001b[0m\u001b[0m_call\u001b[0m\u001b[0;34m(\u001b[0m\u001b[0;34m*\u001b[0m\u001b[0margs\u001b[0m\u001b[0;34m,\u001b[0m \u001b[0;34m**\u001b[0m\u001b[0mkwds\u001b[0m\u001b[0;34m)\u001b[0m\u001b[0;34m\u001b[0m\u001b[0;34m\u001b[0m\u001b[0m\n\u001b[0m\u001b[1;32m    916\u001b[0m \u001b[0;34m\u001b[0m\u001b[0m\n\u001b[1;32m    917\u001b[0m       \u001b[0mnew_tracing_count\u001b[0m \u001b[0;34m=\u001b[0m \u001b[0mself\u001b[0m\u001b[0;34m.\u001b[0m\u001b[0mexperimental_get_tracing_count\u001b[0m\u001b[0;34m(\u001b[0m\u001b[0;34m)\u001b[0m\u001b[0;34m\u001b[0m\u001b[0;34m\u001b[0m\u001b[0m\n",
      "\u001b[0;32m/usr/local/lib/python3.7/dist-packages/tensorflow/python/eager/def_function.py\u001b[0m in \u001b[0;36m_call\u001b[0;34m(self, *args, **kwds)\u001b[0m\n\u001b[1;32m    985\u001b[0m       \u001b[0;31m# If we did not create any variables the trace we have is good enough.\u001b[0m\u001b[0;34m\u001b[0m\u001b[0;34m\u001b[0m\u001b[0;34m\u001b[0m\u001b[0m\n\u001b[1;32m    986\u001b[0m       return self._concrete_stateful_fn._call_flat(\n\u001b[0;32m--> 987\u001b[0;31m           filtered_flat_args, self._concrete_stateful_fn.captured_inputs)  # pylint: disable=protected-access\n\u001b[0m\u001b[1;32m    988\u001b[0m \u001b[0;34m\u001b[0m\u001b[0m\n\u001b[1;32m    989\u001b[0m     \u001b[0;32mdef\u001b[0m \u001b[0mfn_with_cond\u001b[0m\u001b[0;34m(\u001b[0m\u001b[0minner_args\u001b[0m\u001b[0;34m,\u001b[0m \u001b[0minner_kwds\u001b[0m\u001b[0;34m,\u001b[0m \u001b[0minner_filtered_flat_args\u001b[0m\u001b[0;34m)\u001b[0m\u001b[0;34m:\u001b[0m\u001b[0;34m\u001b[0m\u001b[0;34m\u001b[0m\u001b[0m\n",
      "\u001b[0;32m/usr/local/lib/python3.7/dist-packages/tensorflow/python/eager/function.py\u001b[0m in \u001b[0;36m_call_flat\u001b[0;34m(self, args, captured_inputs, cancellation_manager)\u001b[0m\n\u001b[1;32m   1859\u001b[0m       \u001b[0;31m# No tape is watching; skip to running the function.\u001b[0m\u001b[0;34m\u001b[0m\u001b[0;34m\u001b[0m\u001b[0;34m\u001b[0m\u001b[0m\n\u001b[1;32m   1860\u001b[0m       return self._build_call_outputs(self._inference_function.call(\n\u001b[0;32m-> 1861\u001b[0;31m           ctx, args, cancellation_manager=cancellation_manager))\n\u001b[0m\u001b[1;32m   1862\u001b[0m     forward_backward = self._select_forward_and_backward_functions(\n\u001b[1;32m   1863\u001b[0m         \u001b[0margs\u001b[0m\u001b[0;34m,\u001b[0m\u001b[0;34m\u001b[0m\u001b[0;34m\u001b[0m\u001b[0m\n",
      "\u001b[0;32m/usr/local/lib/python3.7/dist-packages/tensorflow/python/eager/function.py\u001b[0m in \u001b[0;36mcall\u001b[0;34m(self, ctx, args, cancellation_manager)\u001b[0m\n\u001b[1;32m    500\u001b[0m               \u001b[0minputs\u001b[0m\u001b[0;34m=\u001b[0m\u001b[0margs\u001b[0m\u001b[0;34m,\u001b[0m\u001b[0;34m\u001b[0m\u001b[0;34m\u001b[0m\u001b[0m\n\u001b[1;32m    501\u001b[0m               \u001b[0mattrs\u001b[0m\u001b[0;34m=\u001b[0m\u001b[0mattrs\u001b[0m\u001b[0;34m,\u001b[0m\u001b[0;34m\u001b[0m\u001b[0;34m\u001b[0m\u001b[0m\n\u001b[0;32m--> 502\u001b[0;31m               ctx=ctx)\n\u001b[0m\u001b[1;32m    503\u001b[0m         \u001b[0;32melse\u001b[0m\u001b[0;34m:\u001b[0m\u001b[0;34m\u001b[0m\u001b[0;34m\u001b[0m\u001b[0m\n\u001b[1;32m    504\u001b[0m           outputs = execute.execute_with_cancellation(\n",
      "\u001b[0;32m/usr/local/lib/python3.7/dist-packages/tensorflow/python/eager/execute.py\u001b[0m in \u001b[0;36mquick_execute\u001b[0;34m(op_name, num_outputs, inputs, attrs, ctx, name)\u001b[0m\n\u001b[1;32m     53\u001b[0m     \u001b[0mctx\u001b[0m\u001b[0;34m.\u001b[0m\u001b[0mensure_initialized\u001b[0m\u001b[0;34m(\u001b[0m\u001b[0;34m)\u001b[0m\u001b[0;34m\u001b[0m\u001b[0;34m\u001b[0m\u001b[0m\n\u001b[1;32m     54\u001b[0m     tensors = pywrap_tfe.TFE_Py_Execute(ctx._handle, device_name, op_name,\n\u001b[0;32m---> 55\u001b[0;31m                                         inputs, attrs, num_outputs)\n\u001b[0m\u001b[1;32m     56\u001b[0m   \u001b[0;32mexcept\u001b[0m \u001b[0mcore\u001b[0m\u001b[0;34m.\u001b[0m\u001b[0m_NotOkStatusException\u001b[0m \u001b[0;32mas\u001b[0m \u001b[0me\u001b[0m\u001b[0;34m:\u001b[0m\u001b[0;34m\u001b[0m\u001b[0;34m\u001b[0m\u001b[0m\n\u001b[1;32m     57\u001b[0m     \u001b[0;32mif\u001b[0m \u001b[0mname\u001b[0m \u001b[0;32mis\u001b[0m \u001b[0;32mnot\u001b[0m \u001b[0;32mNone\u001b[0m\u001b[0;34m:\u001b[0m\u001b[0;34m\u001b[0m\u001b[0;34m\u001b[0m\u001b[0m\n",
      "\u001b[0;31mKeyboardInterrupt\u001b[0m: "
     ]
    }
   ],
   "source": [
    "# Total number of epochs to train for\n",
    "epochs = 30000\n",
    "\n",
    "# Number of batches per epoch\n",
    "batch_size = 64\n",
    "sample_interval=1000 \n",
    "\n",
    "# Real labels\n",
    "real = np.ones((batch_size, 1))\n",
    "# generated labels\n",
    "fake = np.zeros((batch_size, 1))\n",
    "\n",
    "# Running it for 30_000 epochs\n",
    "for epoch in range(epochs):\n",
    "    # Select a batch of random real images\n",
    "    idx = np.random.randint(0, x_train.shape[0], batch_size)\n",
    "    # Fetch the images from the training set\n",
    "    imgs = x_train[idx]\n",
    "    noise = np.random.normal(0, 1, (batch_size, z_dimension))\n",
    "    # Generate fake images\n",
    "    gen_imgs = generator.predict(noise)\n",
    "    # Training the generator to find the loss\n",
    "    d_loss_real = discriminator.train_on_batch(imgs, real)\n",
    "    d_loss_fake = discriminator.train_on_batch(gen_imgs, fake)\n",
    "    d_loss = 0.5 * np.add(d_loss_real, d_loss_fake)\n",
    "    noise = np.random.normal(0, 1, (batch_size, z_dimension))\n",
    "    g_loss = combined.train_on_batch(noise, real)\n",
    "    # Printing the loss every 1000 epochs\n",
    "    if (epoch % sample_interval) == 0:\n",
    "        print (\"%d [D loss: %f, acc.: %.2f%%] [G loss: %f]\" % \n",
    "            (epoch, d_loss[0], 100*d_loss[1], g_loss[0]))\n",
    "        generator.save(\"generator_64_64_z64_%d_epoch.h5\" % epoch)"
   ]
  },
  {
   "cell_type": "code",
   "execution_count": null,
   "metadata": {
    "id": "vh3Yc19oa-vn"
   },
   "outputs": [],
   "source": []
  }
 ],
 "metadata": {
  "colab": {
   "provenance": []
  },
  "kernelspec": {
   "display_name": "Python 3",
   "language": "python",
   "name": "python3"
  },
  "language_info": {
   "codemirror_mode": {
    "name": "ipython",
    "version": 3
   },
   "file_extension": ".py",
   "mimetype": "text/x-python",
   "name": "python",
   "nbconvert_exporter": "python",
   "pygments_lexer": "ipython3",
   "version": "3.8.3"
  }
 },
 "nbformat": 4,
 "nbformat_minor": 1
}
